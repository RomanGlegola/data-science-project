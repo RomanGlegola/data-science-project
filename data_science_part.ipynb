{
 "cells": [
  {
   "cell_type": "code",
   "execution_count": null,
   "id": "9085ee18-ac63-41c9-889f-f7458ae9e27e",
   "metadata": {},
   "outputs": [],
   "source": [
    "## https://medium.com/@stasinskipawel/filozofia-disco-polo-na-przyk%C5%82adzie-tw%C3%B3rczo%C5%9Bci-zespo%C5%82u-figo-fagot-podej%C5%9Bcie-analityczne-ef52a8e4896f"
   ]
  },
  {
   "cell_type": "code",
   "execution_count": 207,
   "id": "be87409a-7f6f-4391-9c09-702da60b1850",
   "metadata": {},
   "outputs": [],
   "source": [
    "import glob\n",
    "import os"
   ]
  },
  {
   "cell_type": "code",
   "execution_count": 208,
   "id": "716eafdc-9d96-486d-93d7-1364a0894544",
   "metadata": {},
   "outputs": [],
   "source": [
    "file_list = glob.glob(os.path.join(os.getcwd(), \"lyrics\", \"*.txt\"))\n",
    "data = []\n",
    "for file_path in file_list:\n",
    "    with open(file_path, \"r\", encoding='utf-8') as f_input:\n",
    "        data.append({'song_name': os.path.basename(file_path.replace(\".txt\", \"\")), \n",
    "                     'song_lyrics': f_input.read()})"
   ]
  },
  {
   "cell_type": "code",
   "execution_count": 209,
   "id": "3ce41a06-c3da-4fa8-9ae5-f9fafa501c02",
   "metadata": {},
   "outputs": [],
   "source": [
    "import polars as pl"
   ]
  },
  {
   "cell_type": "code",
   "execution_count": 210,
   "id": "94d4b5bd-d64c-480c-a596-a25c020b9d55",
   "metadata": {},
   "outputs": [],
   "source": [
    "df = pl.DataFrame(data)"
   ]
  },
  {
   "cell_type": "code",
   "execution_count": 240,
   "id": "2037a981-09f0-4f5d-8619-a45d5ebccfe1",
   "metadata": {},
   "outputs": [
    {
     "name": "stdout",
     "output_type": "stream",
     "text": [
      "shape: (87, 2)\n",
      "┌───────────────────────────────────┬───────────────────────────────────┐\n",
      "│ song_name                         ┆ song_lyrics                       │\n",
      "│ ---                               ┆ ---                               │\n",
      "│ str                               ┆ str                               │\n",
      "╞═══════════════════════════════════╪═══════════════════════════════════╡\n",
      "│ 17_Girls_In_A_Row                 ┆ I fucked 17 girls in a row last … │\n",
      "│ 1987                              ┆ Appetite For Destruction Blowing… │\n",
      "│ Ain't_Dead_Yet                    ┆ I'm a little worse for wear And … │\n",
      "│ All_I_Wanna_Do_Is_Fuck_(Myself_T… ┆ Sexy ahahahaha You're looking go… │\n",
      "│ …                                 ┆ …                                 │\n",
      "│ Why_Can't_You_Trust_Me            ┆ I want you to know one thing You… │\n",
      "│ Wrong_Side_Of_The_Tracks_(Out_In… ┆ My mansion is the size of a city… │\n",
      "│ You're_Beautiful_When_You_Don't_… ┆ Your beauty is deeper than the s… │\n",
      "│ Zebraman                          ┆ What is your philosophy of life?… │\n",
      "└───────────────────────────────────┴───────────────────────────────────┘\n"
     ]
    }
   ],
   "source": [
    "print(df)"
   ]
  },
  {
   "cell_type": "code",
   "execution_count": 259,
   "id": "7ebddad6-5a75-499d-affe-ba6a1345f6c5",
   "metadata": {},
   "outputs": [],
   "source": [
    "from collections import Counter\n",
    "import re"
   ]
  },
  {
   "cell_type": "code",
   "execution_count": 333,
   "id": "47e1c591-14fa-4e33-9287-cd15a23aea57",
   "metadata": {},
   "outputs": [],
   "source": [
    "def clean_text(text):\n",
    "    text = re.sub(r'[^\\w\\s\\']', '', text)\n",
    "    text = re.sub(r'â|â s', '\\'', text)\n",
    "    return text"
   ]
  },
  {
   "cell_type": "code",
   "execution_count": 334,
   "id": "772781a9-7b28-4303-a2f0-7d4eeb0cd0b1",
   "metadata": {},
   "outputs": [],
   "source": [
    "def create_ngrams(text, n=1):\n",
    "    text = clean_text(text.lower())\n",
    "    words = re.findall(r'\\b\\w+(?:\\'\\w+)?\\b', text)\n",
    "    if n < 1:\n",
    "        return []\n",
    "    return [' '.join(words[i:i+n]) for i in range(len(words) - n + 1)]\n"
   ]
  },
  {
   "cell_type": "code",
   "execution_count": 350,
   "id": "8e10f623-0d89-4032-8f5c-8fee9039d6c1",
   "metadata": {},
   "outputs": [],
   "source": [
    "def get_top_ngrams(df, n=1, top=20, song_names=None):\n",
    "    ngrams = []\n",
    "    if song_names:\n",
    "        song_names = [str(name) for name in song_names]\n",
    "        df = df.filter(pl.col(\"song_name\").is_in(song_names))\n",
    "    for lyrics in df['song_lyrics'].to_list():\n",
    "        ngrams.extend(create_ngrams(text=lyrics, n=n))\n",
    "\n",
    "    return Counter(ngrams).most_common(top)"
   ]
  },
  {
   "cell_type": "code",
   "execution_count": 351,
   "id": "afc88b08-3904-4f45-ae58-94da37da7564",
   "metadata": {},
   "outputs": [],
   "source": [
    "def ngrams_to_df(df, n: int = 1, top: int = 40, song_names=None):\n",
    "    top_ngrams = get_top_ngrams(df, n, top = top, song_names=song_names)\n",
    "    ngrams_df = pl.DataFrame(top_ngrams, schema=['ngram', 'count'])\n",
    "    return ngrams_df"
   ]
  },
  {
   "cell_type": "code",
   "execution_count": 352,
   "id": "a7b69233-765c-4c73-85fd-1183e85243d6",
   "metadata": {},
   "outputs": [
    {
     "name": "stdout",
     "output_type": "stream",
     "text": [
      "shape: (40, 2)\n",
      "┌───────┬───────┐\n",
      "│ ngram ┆ count │\n",
      "│ ---   ┆ ---   │\n",
      "│ str   ┆ i64   │\n",
      "╞═══════╪═══════╡\n",
      "│ the   ┆ 895   │\n",
      "│ i     ┆ 686   │\n",
      "│ you   ┆ 670   │\n",
      "│ a     ┆ 599   │\n",
      "│ …     ┆ …     │\n",
      "│ when  ┆ 105   │\n",
      "│ was   ┆ 104   │\n",
      "│ what  ┆ 103   │\n",
      "│ can   ┆ 102   │\n",
      "└───────┴───────┘\n"
     ]
    }
   ],
   "source": [
    "#Monogram\n",
    "print(ngrams_to_df(df, n=1, top=40))"
   ]
  },
  {
   "cell_type": "code",
   "execution_count": 353,
   "id": "22f45c68-2620-4677-956f-ef4dbdde4ac8",
   "metadata": {},
   "outputs": [
    {
     "name": "stdout",
     "output_type": "stream",
     "text": [
      "shape: (40, 2)\n",
      "┌─────────────┬───────┐\n",
      "│ ngram       ┆ count │\n",
      "│ ---         ┆ ---   │\n",
      "│ str         ┆ i64   │\n",
      "╞═════════════╪═══════╡\n",
      "│ in the      ┆ 111   │\n",
      "│ on the      ┆ 80    │\n",
      "│ i got       ┆ 62    │\n",
      "│ of the      ┆ 57    │\n",
      "│ …           ┆ …     │\n",
      "│ i like      ┆ 27    │\n",
      "│ she's a     ┆ 27    │\n",
      "│ that's what ┆ 27    │\n",
      "│ me cum      ┆ 27    │\n",
      "└─────────────┴───────┘\n"
     ]
    }
   ],
   "source": [
    "#duogram\n",
    "print(ngrams_to_df(df, n=2, top=40))"
   ]
  },
  {
   "cell_type": "code",
   "execution_count": 354,
   "id": "28c18966-6ad9-4a04-ad25-5f624ea57bff",
   "metadata": {},
   "outputs": [
    {
     "name": "stdout",
     "output_type": "stream",
     "text": [
      "shape: (40, 2)\n",
      "┌──────────────────────┬───────┐\n",
      "│ ngram                ┆ count │\n",
      "│ ---                  ┆ ---   │\n",
      "│ str                  ┆ i64   │\n",
      "╞══════════════════════╪═══════╡\n",
      "│ really really really ┆ 33    │\n",
      "│ weenie weenie weenie ┆ 30    │\n",
      "│ let me cum           ┆ 26    │\n",
      "│ me cum in            ┆ 26    │\n",
      "│ …                    ┆ …     │\n",
      "│ out the lights       ┆ 15    │\n",
      "│ ah yeah beautiful    ┆ 14    │\n",
      "│ yeah beautiful girls ┆ 14    │\n",
      "│ when you came        ┆ 14    │\n",
      "└──────────────────────┴───────┘\n"
     ]
    }
   ],
   "source": [
    "#trigram\n",
    "print(ngrams_to_df(df, n=3, top=40))"
   ]
  },
  {
   "cell_type": "code",
   "execution_count": 355,
   "id": "3f5713d0-2e99-49f8-8591-3a28d8f0a47d",
   "metadata": {},
   "outputs": [
    {
     "name": "stdout",
     "output_type": "stream",
     "text": [
      "shape: (40, 2)\n",
      "┌─────────────────────────────┬───────┐\n",
      "│ ngram                       ┆ count │\n",
      "│ ---                         ┆ ---   │\n",
      "│ str                         ┆ i64   │\n",
      "╞═════════════════════════════╪═══════╡\n",
      "│ let me cum in               ┆ 26    │\n",
      "│ really really really really ┆ 24    │\n",
      "│ weenie weenie weenie weenie ┆ 24    │\n",
      "│ i got what you              ┆ 23    │\n",
      "│ …                           ┆ …     │\n",
      "│ when you came in            ┆ 12    │\n",
      "│ you came in and             ┆ 12    │\n",
      "│ came in and blew            ┆ 12    │\n",
      "│ in and blew me              ┆ 12    │\n",
      "└─────────────────────────────┴───────┘\n"
     ]
    }
   ],
   "source": [
    "#quadrogram\n",
    "print(ngrams_to_df(df, n=4, top=40))"
   ]
  },
  {
   "cell_type": "code",
   "execution_count": 356,
   "id": "3c0dfcf3-d4db-4c82-a296-0f3357ccdb00",
   "metadata": {},
   "outputs": [
    {
     "name": "stdout",
     "output_type": "stream",
     "text": [
      "shape: (40, 2)\n",
      "┌───────────────────────────────────┬───────┐\n",
      "│ ngram                             ┆ count │\n",
      "│ ---                               ┆ ---   │\n",
      "│ str                               ┆ i64   │\n",
      "╞═══════════════════════════════════╪═══════╡\n",
      "│ that's what girls are for         ┆ 23    │\n",
      "│ i got what you want               ┆ 20    │\n",
      "│ weenie weenie weenie weenie ween… ┆ 18    │\n",
      "│ let me cum in let                 ┆ 17    │\n",
      "│ …                                 ┆ …     │\n",
      "│ your bitch i'm not your           ┆ 11    │\n",
      "│ bitch i'm not your bitch          ┆ 11    │\n",
      "│ why can't you trust me            ┆ 11    │\n",
      "│ can't you trust me baby           ┆ 11    │\n",
      "└───────────────────────────────────┴───────┘\n"
     ]
    }
   ],
   "source": [
    "#pentagram\n",
    "print(ngrams_to_df(df, n=5, top=40))"
   ]
  },
  {
   "cell_type": "code",
   "execution_count": 358,
   "id": "9d4a813d-eba4-40b3-abcb-8f36c30c50da",
   "metadata": {},
   "outputs": [
    {
     "name": "stdout",
     "output_type": "stream",
     "text": [
      "shape: (40, 2)\n",
      "┌─────────────────┬───────┐\n",
      "│ ngram           ┆ count │\n",
      "│ ---             ┆ ---   │\n",
      "│ str             ┆ i64   │\n",
      "╞═════════════════╪═══════╡\n",
      "│ girls in        ┆ 9     │\n",
      "│ in a            ┆ 8     │\n",
      "│ a row           ┆ 8     │\n",
      "│ seventeen girls ┆ 8     │\n",
      "│ …               ┆ …     │\n",
      "│ his dues        ┆ 2     │\n",
      "│ row last        ┆ 1     │\n",
      "│ last night      ┆ 1     │\n",
      "│ night and       ┆ 1     │\n",
      "└─────────────────┴───────┘\n"
     ]
    }
   ],
   "source": [
    "#monogram '17_Girls_In_A_Row', 'Ain\\'t_Dead_Yet'\n",
    "print(ngrams_to_df(df, n=2, top=40, song_names=['17_Girls_In_A_Row', 'Ain\\'t_Dead_Yet']))"
   ]
  },
  {
   "cell_type": "code",
   "execution_count": null,
   "id": "27e30e48-657f-48aa-b81a-d68617c59707",
   "metadata": {},
   "outputs": [],
   "source": []
  },
  {
   "cell_type": "code",
   "execution_count": null,
   "id": "1079448a-915e-4207-9cdd-feb7443ae757",
   "metadata": {},
   "outputs": [],
   "source": []
  }
 ],
 "metadata": {
  "kernelspec": {
   "display_name": "Python 3 (ipykernel)",
   "language": "python",
   "name": "python3"
  },
  "language_info": {
   "codemirror_mode": {
    "name": "ipython",
    "version": 3
   },
   "file_extension": ".py",
   "mimetype": "text/x-python",
   "name": "python",
   "nbconvert_exporter": "python",
   "pygments_lexer": "ipython3",
   "version": "3.11.3"
  }
 },
 "nbformat": 4,
 "nbformat_minor": 5
}
