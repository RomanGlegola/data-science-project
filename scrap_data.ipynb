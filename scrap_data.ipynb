{
 "cells": [
  {
   "cell_type": "markdown",
   "id": "eed41316-321d-4ae4-ac66-7d3bdbf94dcf",
   "metadata": {},
   "source": [
    "# Steps to get the lyrics"
   ]
  },
  {
   "cell_type": "code",
   "execution_count": 252,
   "id": "ef9d6b34-d6a1-46ef-9933-5bb9a2aed38a",
   "metadata": {},
   "outputs": [],
   "source": [
    "band: str = \"Steel Panther\"\n",
    "website: str = f'https://www.azlyrics.com/s/{band.lower().replace(\" \", \"\")}.html'"
   ]
  },
  {
   "cell_type": "code",
   "execution_count": 253,
   "id": "6e812f57-f6fa-44e5-90ac-9a5ab06c3c13",
   "metadata": {},
   "outputs": [],
   "source": [
    "import requests"
   ]
  },
  {
   "cell_type": "code",
   "execution_count": 254,
   "id": "65066cc8-749a-4ed4-9789-8b50a001e005",
   "metadata": {},
   "outputs": [
    {
     "data": {
      "text/plain": [
       "200"
      ]
     },
     "execution_count": 254,
     "metadata": {},
     "output_type": "execute_result"
    }
   ],
   "source": [
    "main_site = requests.get(url = website)\n",
    "\n",
    "main_site.status_code"
   ]
  },
  {
   "cell_type": "code",
   "execution_count": 255,
   "id": "dfcc87ab-f382-4f82-b261-c7bc85e5170f",
   "metadata": {},
   "outputs": [
    {
     "data": {
      "text/plain": [
       "'text/html'"
      ]
     },
     "execution_count": 255,
     "metadata": {},
     "output_type": "execute_result"
    }
   ],
   "source": [
    "main_site.headers['content-type']"
   ]
  },
  {
   "cell_type": "code",
   "execution_count": 256,
   "id": "4ca6ead9-9035-4136-b7f7-e0e011bdca32",
   "metadata": {},
   "outputs": [
    {
     "data": {
      "text/plain": [
       "'ISO-8859-1'"
      ]
     },
     "execution_count": 256,
     "metadata": {},
     "output_type": "execute_result"
    }
   ],
   "source": [
    "main_site.encoding"
   ]
  },
  {
   "cell_type": "code",
   "execution_count": 257,
   "id": "8e9788c5-12c1-4119-b03c-a67ec1691f44",
   "metadata": {},
   "outputs": [],
   "source": [
    "from bs4 import BeautifulSoup"
   ]
  },
  {
   "cell_type": "code",
   "execution_count": 258,
   "id": "df24b6d3-fa55-4078-a3fc-306cacce88dc",
   "metadata": {},
   "outputs": [],
   "source": [
    "soup = BeautifulSoup(main_site.text, 'html.parser')"
   ]
  },
  {
   "cell_type": "code",
   "execution_count": 259,
   "id": "cba624b2-48a6-4bc3-ae9d-e91ed864a98e",
   "metadata": {},
   "outputs": [],
   "source": [
    "links: list = []"
   ]
  },
  {
   "cell_type": "code",
   "execution_count": 260,
   "id": "ba62201d-237e-4987-8983-3c47da2f2ec5",
   "metadata": {},
   "outputs": [],
   "source": [
    "for link in soup.find_all(class_='listalbum-item'):\n",
    "    links.append(f\"https://www.azlyrics.com{link.find('a')['href']}\" if link.find('a') else None)"
   ]
  },
  {
   "cell_type": "code",
   "execution_count": 261,
   "id": "d130831b-2368-4fe7-8c20-4d010ab9e8af",
   "metadata": {},
   "outputs": [],
   "source": [
    "from time import sleep\n",
    "from random import randint"
   ]
  },
  {
   "cell_type": "code",
   "execution_count": 263,
   "id": "1b713a98-f899-454d-868b-7d0dfab56a03",
   "metadata": {},
   "outputs": [],
   "source": [
    "for element in links:\n",
    "    song_site = requests.get(url = element)\n",
    "    song_soup = BeautifulSoup(song_site.text, 'html.parser')\n",
    "    song_name = song_soup \\\n",
    "        .find_all(\"b\")[1] \\\n",
    "        .get_text() \\\n",
    "        .replace(\" \", \"_\") \\\n",
    "        .replace(\"\\\\\", \"\") \\\n",
    "        .replace(\"\\\"\", \"\")\n",
    "    song_content = song_soup \\\n",
    "        .select_one(\"html > body > div:nth-of-type(2) > div:nth-of-type(2) > div:nth-of-type(2) > div:nth-of-type(5)\") \\\n",
    "        .get_text() \\\n",
    "        .replace(\"\\n\\n\", \" \") \\\n",
    "        .replace(\"\\n\", \" \") \\\n",
    "        .replace(\" \\r \", \"\") \\\n",
    "        .replace(\"  \", \" \") \\\n",
    "        .replace(\",\", \"\") \\\n",
    "        .replace(\".\", \"\") \\\n",
    "        .replace(r\"Â\\xa0\", \"\") \\\n",
    "        .replace(\"\\\\\", \"\") \\\n",
    "        .replace(\"\\\\xc3\", \"\")\n",
    "    with open(f\"lyrics/{song_name}.txt\", \"w\", encoding='utf-8') as file:\n",
    "        file.write(song_content)\n",
    "    sleep(randint(5, 20))"
   ]
  },
  {
   "cell_type": "code",
   "execution_count": null,
   "id": "6dea7a38-590e-4a8e-9187-1d69138310d4",
   "metadata": {},
   "outputs": [],
   "source": []
  }
 ],
 "metadata": {
  "kernelspec": {
   "display_name": "Python 3 (ipykernel)",
   "language": "python",
   "name": "python3"
  },
  "language_info": {
   "codemirror_mode": {
    "name": "ipython",
    "version": 3
   },
   "file_extension": ".py",
   "mimetype": "text/x-python",
   "name": "python",
   "nbconvert_exporter": "python",
   "pygments_lexer": "ipython3",
   "version": "3.11.3"
  }
 },
 "nbformat": 4,
 "nbformat_minor": 5
}
